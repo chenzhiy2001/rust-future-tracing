{
 "cells": [
  {
   "cell_type": "code",
   "execution_count": 8,
   "metadata": {},
   "outputs": [
    {
     "name": "stdout",
     "output_type": "stream",
     "text": [
      "tree.html\n"
     ]
    },
    {
     "data": {
      "text/html": [
       "\n",
       "        <iframe\n",
       "            width=\"100%\"\n",
       "            height=\"1600px\"\n",
       "            src=\"tree.html\"\n",
       "            frameborder=\"0\"\n",
       "            allowfullscreen\n",
       "            \n",
       "        ></iframe>\n",
       "        "
      ],
      "text/plain": [
       "<IPython.lib.display.IFrame at 0x7e28dc6c1640>"
      ]
     },
     "execution_count": 8,
     "metadata": {},
     "output_type": "execute_result"
    }
   ],
   "source": [
    "from parse import gen_tree\n",
    "\n",
    "import tempfile\n",
    "import subprocess\n",
    "from pyvis.network import Network\n",
    "\n",
    "binary = \"../simpleAsync/target/debug/simpleAsync\"\n",
    "temp = tempfile.NamedTemporaryFile()\n",
    "subprocess.run([\"ddbug\", \"-sname\", binary], stdout=temp)\n",
    "tree = gen_tree(temp.name)\n",
    "idmap = {}\n",
    "G = Network(height=\"1600px\", notebook=True, directed=True, cdn_resources='remote')\n",
    "for fa, ch in tree.items():\n",
    "    if idmap.get(fa) == None:\n",
    "        idmap[fa] = len(idmap)\n",
    "        G.add_node(idmap[fa], label=idmap[fa], title=fa)\n",
    "    for child in ch:\n",
    "        if idmap.get(child) == None:\n",
    "            idmap[child] = len(idmap)\n",
    "            G.add_node(idmap[child], label=idmap[child], title=child)\n",
    "for fa, ch in tree.items():\n",
    "    for child in ch:\n",
    "        G.add_edge(idmap[fa], idmap[child])\n",
    "G.toggle_physics(True)\n",
    "with open(\"leaf_nodes.txt\", \"w\") as f:\n",
    "    for node in G.nodes:\n",
    "        if len(G.neighbors(node['id'])) == 0:\n",
    "            f.write(f\"{node['title']}\\n\")\n",
    "\n",
    "G.show(\"tree.html\")"
   ]
  }
 ],
 "metadata": {
  "kernelspec": {
   "display_name": "venv",
   "language": "python",
   "name": "python3"
  },
  "language_info": {
   "codemirror_mode": {
    "name": "ipython",
    "version": 3
   },
   "file_extension": ".py",
   "mimetype": "text/x-python",
   "name": "python",
   "nbconvert_exporter": "python",
   "pygments_lexer": "ipython3",
   "version": "3.12.3"
  },
  "orig_nbformat": 4
 },
 "nbformat": 4,
 "nbformat_minor": 2
}
